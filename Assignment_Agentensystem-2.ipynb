{
  "nbformat": 4,
  "nbformat_minor": 0,
  "metadata": {
    "colab": {
      "provenance": []
    },
    "kernelspec": {
      "name": "python3",
      "display_name": "Python 3"
    },
    "language_info": {
      "name": "python"
    }
  },
  "cells": [
    {
      "cell_type": "code",
      "execution_count": null,
      "metadata": {
        "id": "446rss8j-7d0"
      },
      "outputs": [],
      "source": [
        "#Installationen\n",
        "\n",
        "# ! -> in Shell ausgeführt\n",
        "#LangChain ist ein Python-Frameworkdas die Arbeit mit LLMseinfacher und strukturierter macht.\n",
        "#LangChain-OpenAI-Integrationspaket für OpenAI installieren, um OpenAI-Modelle direkt in LangChain zu nutzen.\n",
        "#LangChain-Community für die Integrationen zu externen Tools, Datenbanken, APIs, Dateiformaten.\n",
        "#Reportlab ist ein Python-Paket, das PDFs erzeugen kann.\n",
        "#requests ist ein HTTP-Paket für Python, um Web-Requests zu senden.\n",
        "!pip install langchain langchain-openai langchain-community reportlab requests langchain_experimental"
      ]
    },
    {
      "cell_type": "code",
      "source": [
        "#Importe\n",
        "\n",
        "#Os ist eine Standardbibliothek von Python, die als Betriebssystem-Funktionen dient.\n",
        "#json ist eine Standardbibliothek von Python, die zwischen Python-Datenstrukturen und JSON umwandelt.\n",
        "#requests ist ein externes Paket (vorher installiert), das für HTTP-Anfragen verwendet wird.\n",
        "import os, json, requests\n",
        "\n",
        "#ChatOpenAI ist die Schnittstelle zu den OpenAI-Chatmodellen.\n",
        "from langchain_openai import ChatOpenAI\n",
        "\n",
        "#Tools istallieren, damit Agent externe Funktionen/Skills zur Lösung von Aufgaben nutzen kann.\n",
        "from langchain.agents import Tool\n",
        "\n",
        "#Load_agent_executor erstellt einen Executor-Agent, der die vom Planner erzeugten Schritte ausführt und die entsprechenden Tools aufruft.\n",
        "#Load_chat_planner erstellt einen Planner-Agent, der die User-Anfrage in einen Schritt-für-Schritt-Plan zerlegt.\n",
        "#PlanAndExecute ist ein Agent-Wrapper und kombiniert Planner und Executer, um eine dynamische Orchestrierung zu bauen.\n",
        "from langchain_experimental.plan_and_execute import load_agent_executor, load_chat_planner, PlanAndExecute\n",
        "\n",
        "#SimpleDocTemplate stellt das \"Grundgerüst\" für ein PDF-Dokument.\n",
        "#Paragraph unterstützt Formatierung, Schriftart, Größe, Stil und ermöglicht Textabsätze.\n",
        "#Spacer fügt Abstand zwischen den Elementen hinzu, um das Layout sauber zu halten\n",
        "from reportlab.platypus import SimpleDocTemplate, Paragraph, Spacer\n",
        "\n",
        "#Hilfsfunktion, um vorgefertigte Textstile (Stylesheet) für PDFs zu bekommen.\n",
        "from reportlab.lib.styles import getSampleStyleSheet\n",
        "\n",
        "#Ermöglicht Zugriff auf API-Key\n",
        "from google.colab import userdata"
      ],
      "metadata": {
        "id": "D3aRzcJv--9c"
      },
      "execution_count": 2,
      "outputs": []
    },
    {
      "cell_type": "code",
      "source": [
        "#API Key laden\n",
        "#OpenAI-API-Schlüssel sicher aus gespeicherten Colab-Benutzerdaten in Notebook schreiben\n",
        "\n",
        "OPENAI_API_KEY = userdata.get('apikey_11')\n",
        "\n",
        "#LLM\n",
        "#ChatOpenAI --> Schnittstelle von LangChain zu OpenAI\n",
        "#openai_api_key --> Schlüssel, damit LangChain auf Modell zugreifen kann\n",
        "#model ist das Sprachmodell das bei OpenAI verwendet wird\n",
        "llm = ChatOpenAI(openai_api_key=OPENAI_API_KEY, model=\"gpt-4o-mini\")"
      ],
      "metadata": {
        "id": "nKLF9P2i_ZDB"
      },
      "execution_count": 3,
      "outputs": []
    },
    {
      "cell_type": "code",
      "source": [
        "#Tools\n",
        "\n",
        "#Funktionsdefinition für Rechnertool\n",
        "#expression: str --> String als Input erwartet\n",
        "#-> str --> gibt String zurück\n",
        "def rechner_tool(expression: str) -> str:\n",
        "    try:\n",
        "        #eval(expression) --> wertet Rechenaufgabe als Python-Ausdruck aus\n",
        "        #str() --> macht wieder zurückzugebenden String draus\n",
        "        return str(eval(expression))\n",
        "    #Exception-handeling --> gibt Fehler zurück, sodass Agent nicht abstürzt\n",
        "    except Exception as e:\n",
        "        return f\"Fehler: {str(e)}\"\n",
        "\n",
        "#Funktionsdefinition für Wettertool\n",
        "#city: str --> String als Input erwartet (Stadt)\n",
        "#-> str --> gibt String zurück\n",
        "def wetter_tool(city: str) -> str:\n",
        "    try:\n",
        "        #URL, wo das Wetterabgefragt wird\n",
        "        url = f\"https://wttr.in/{city}?format=j1\"\n",
        "        #Wandelt den Inhalt der URL in ein JSON-Format um\n",
        "        resp = requests.get(url).json()\n",
        "        #Speichert die Temperatur aus der JSON\n",
        "        temp = resp[\"current_condition\"][0][\"temp_C\"]\n",
        "        #Speichert die Wetter-Konditionen aus der JSON\n",
        "        desc = resp[\"current_condition\"][0][\"weatherDesc\"][0][\"value\"]\n",
        "        #Gibt Wetter zurück als string\n",
        "        return f\"In {city} sind es {temp}°C und {desc}.\"\n",
        "    #Exception-handeling --> gibt Fehler zurück, sodass Agent nicht abstürzt\n",
        "    except Exception as e:\n",
        "        return f\"Wetter-Fehler: {str(e)}\"\n",
        "\n",
        "#Liste mit Tool-Objekten erstellt. Enthält alle Tools, die der Agent nutzen kann\n",
        "#Jedes Tool hat einen eindeutigen Namen, Funktion (vorher definiert), und Beschreibung.\n",
        "#Die Beschreibung beschreibt dem Agenten, wann er das Tool einsetzen soll.\n",
        "tools = [\n",
        "    Tool(\n",
        "        name=\"Rechner\",\n",
        "        func=rechner_tool,\n",
        "        description=\"Berechne einen mathematischen Ausdruck. Input: Mathe-Ausdruck.\"\n",
        "    ),\n",
        "    Tool(\n",
        "        name=\"Wetter\",\n",
        "        func=wetter_tool,\n",
        "        description=\"Hole das Wetter einer Stadt. Input: Stadtname.\"\n",
        "    )\n",
        "]"
      ],
      "metadata": {
        "id": "rlZMp1MR_tbn"
      },
      "execution_count": 4,
      "outputs": []
    },
    {
      "cell_type": "code",
      "source": [
        "#Planner und Executor\n",
        "#Planner-Agent wird erstellt.\n",
        "#Planner greift auf das llm (vorher definiert) zu.\n",
        "#Überlegt, welche Schritt enotwendig sind und gibt Aufgaben in planner-Objekt zurück.\n",
        "planner = load_chat_planner(llm)\n",
        "\n",
        "#Executor-Agent wird erstellt, der Schritte ausführen kann.\n",
        "#llm wird zur Textgenerierung und Interpretation genutzt.\n",
        "#Tools-Liste, für zur verfügung stehende Tools.\n",
        "#verbose=True --> es sollen logs angezeigt werden, welche Tools genutzt wurden\n",
        "#executor-Objekt speichert und kann Schritte automatisch ausführen und Ergebnisse zurückgeben\n",
        "executor = load_agent_executor(llm, tools, verbose=True)"
      ],
      "metadata": {
        "id": "IPJtXNqS_3Ei"
      },
      "execution_count": 5,
      "outputs": []
    },
    {
      "cell_type": "code",
      "source": [
        "#dynamischer Orchestrator (Plan and Execute)\n",
        "#Kombiniert vorher definierte planner und executor. Kann dynamische Aufgaben planen und ausführen.\n",
        "#verbose=True --> es sollen logs angezeigt werden, welche Tools genutzt wurden\n",
        "agent = PlanAndExecute(planner=planner, executor=executor, verbose=True)"
      ],
      "metadata": {
        "id": "qBJbB-Pr_7Hw"
      },
      "execution_count": 6,
      "outputs": []
    },
    {
      "cell_type": "code",
      "source": [
        "#Beispiel-Abfragen\n",
        "#query ist die Nutzer-Abfrage\n",
        "query = \"Ich möchte die aktuelle Temperatur in Dresden durch 2 dividieren.\"\n",
        "#result ist das Ergebnis. Der Agent wird mit der query aufgerufen. Durch die dynamische Orchestrierung, plant und führt der Agent die Schritte alleine aus.\n",
        "result = agent.run(query)\n",
        "\n",
        "print(\"Finale Antwort:\", result)"
      ],
      "metadata": {
        "collapsed": true,
        "id": "nIokIb2E__SU"
      },
      "execution_count": null,
      "outputs": []
    },
    {
      "cell_type": "code",
      "source": [
        "#Export als JSON & PDF\n",
        "\n",
        "#Funktion export_output definieren\n",
        "#In result soll der Ergebnis-Text gespeichert werden\n",
        "#Die Datei soll \"Ergebnis heißen\"\n",
        "def export_output(result: str, filename: str = \"Ergebnis\"):\n",
        "    #data sind die zu speichernden Daten\n",
        "    data = {\"Ergebnis\": result}\n",
        "    #f ist die Referenz auf die Datei und \"w\" öffnet die Datei zum Schreiben\n",
        "    #Wenn die Datei nicht extistiert, wird sie neu angelegt\n",
        "    #Sonst wird die existierende Datei überschrieben\n",
        "    #'with' Schließt die Datei automatisch, sobald der Block fertig ist\n",
        "    with open(f\"{filename}.json\", \"w\") as f:\n",
        "        #Hier wird die Datei mit den Daten beschrieben.\n",
        "        #f gibt die Referenz.\n",
        "        #indent=2 beschreibt die Formatierung (2 Leerzeichen pro Ebene). -> schöner Formatiert\n",
        "        json.dump(data, f, indent=2)\n",
        "\n",
        "    #Standardstil für PDF-Texte aus Paket.\n",
        "    styles = getSampleStyleSheet()\n",
        "    #Hier wird das PDF-Dokument erstellt.\n",
        "    doc = SimpleDocTemplate(f\"{filename}.pdf\")\n",
        "    #Liste der Elemente, die ins PDF kommen\n",
        "    #Paragraph -> eigentlicher Ergebnistext\n",
        "    #Paragraph(\"Ergebnis:\", styles[\"Heading2\"]) --> Überschrift\n",
        "    #Spacer(1, 12) --> Abstand zwischen Überschrift und Text\n",
        "    #Paragraph(result, styles[\"Normal\"]) --> Text (Inhalt)\n",
        "    story = [Paragraph(\"Ergebnis:\", styles[\"Heading2\"]), Spacer(1, 12),\n",
        "             Paragraph(result, styles[\"Normal\"])]\n",
        "    #Hier wird das PDF gebaut.\n",
        "    doc.build(story)\n",
        "\n",
        "    #Als Kontrolle die Ausgabe für die gespeicherten Dokumente\n",
        "    print(f\"Gespeichert: {filename}.json und {filename}.pdf\")\n",
        "\n",
        "#Hier wird die Funktion aufgerufen\n",
        "export_output(result, filename=\"Ergebnis\")"
      ],
      "metadata": {
        "id": "ZciyI1WOAHs6"
      },
      "execution_count": null,
      "outputs": []
    }
  ]
}